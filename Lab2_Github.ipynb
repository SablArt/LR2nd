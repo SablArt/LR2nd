{
  "nbformat": 4,
  "nbformat_minor": 0,
  "metadata": {
    "colab": {
      "provenance": [],
      "include_colab_link": true
    },
    "kernelspec": {
      "name": "python3",
      "display_name": "Python 3"
    },
    "language_info": {
      "name": "python"
    }
  },
  "cells": [
    {
      "cell_type": "markdown",
      "metadata": {
        "id": "view-in-github",
        "colab_type": "text"
      },
      "source": [
        "<a href=\"https://colab.research.google.com/github/SablArt/LR2nd/blob/main/Lab2_Github.ipynb\" target=\"_parent\"><img src=\"https://colab.research.google.com/assets/colab-badge.svg\" alt=\"Open In Colab\"/></a>"
      ]
    },
    {
      "cell_type": "code",
      "source": [
        "# Подключение библиотек\n",
        "import pandas as pd     # для чтения и записи табличных файлов\n",
        "import numpy as np      # для математической обработки данных\n",
        "import matplotlib.pyplot as plt # для построения графиков\n",
        "from bokeh.plotting import figure, output_file, show\n",
        "from bokeh.io import output_notebook"
      ],
      "metadata": {
        "id": "fA21h2szbgiR"
      },
      "execution_count": null,
      "outputs": []
    },
    {
      "cell_type": "code",
      "source": [
        "# Получение и чтение Excel файла из облака\n",
        "url = \"https://drive.google.com/uc?export=download&id=130uKatSQ7Tpm4cAED2Q5H5C8WQSdDm8R\"\n",
        "input_df = pd.read_excel(url, decimal=',') "
      ],
      "metadata": {
        "id": "DqiUPX5Boqaw"
      },
      "execution_count": null,
      "outputs": []
    },
    {
      "cell_type": "code",
      "source": [
        "# Просмотр первых строк таблицы\n",
        "input_df.head()"
      ],
      "metadata": {
        "id": "28Oi3v_loqdZ"
      },
      "execution_count": null,
      "outputs": []
    },
    {
      "cell_type": "code",
      "source": [
        "# Просмотр последних строк таблицы\n",
        "input_df.tail()"
      ],
      "metadata": {
        "id": "4WYysmz1oqg3"
      },
      "execution_count": null,
      "outputs": []
    },
    {
      "cell_type": "code",
      "source": [
        "# Строим интерактивный график почасовой скорости ветра при помощи библиотеки Bokeh\n",
        "wind_speed = input_df.iloc[: , 0].values\n",
        "\n",
        "output_notebook()\n",
        "\n",
        "p0 = figure(plot_width = 800, plot_height = 400, title=\"Почасовая скорость ветра\")\n",
        "p0.line(np.arange(len(wind_speed)), wind_speed, line_width = 2,\n",
        "       legend_label=\"Скорость ветра\", color = 'green')\n",
        "show(p0)\n",
        "# Сохраняем график как csv\n",
        "np.savetxt(\"Wind_speed.csv\", wind_speed, delimiter=\",\")"
      ],
      "metadata": {
        "id": "0E7YK_xLoqji"
      },
      "execution_count": null,
      "outputs": []
    },
    {
      "cell_type": "code",
      "source": [
        "# Задаём зависимость среднечасовой выработки ВЭС от средней скорости ветра\n",
        "def wind_speed_to_power(speed):\n",
        "  min_speed = 5\n",
        "  max_speed = 20\n",
        "  critical_speed = 25\n",
        "  \n",
        "  # выработка равна нулю, если скорость ветра выше критической или ниже минимальной\n",
        "  # поэтому обнуляем такую скорость\n",
        "  speed_tmp = np.where(np.logical_or(speed > critical_speed, speed < min_speed), 0, speed)\n",
        "\n",
        "  # если скорость выше максимальной, то выработка не будет расти, добавляем ограничение сверху \n",
        "  speed_tmp = np.clip(speed_tmp, a_min = None, a_max = max_speed)\n",
        "\n",
        "  # на рабочем участке от min_speed до max_speed мощность пропорциональна кубу скорости\n",
        "  power = 0.0017 * (speed_tmp) ** 3\n",
        "  return power\n",
        "\n",
        "# Строим интерактивный график почасовой выработки ВЭС от скорости ветра при помощи библиотеки Bokeh\n",
        "p1 = figure(plot_width = 800, plot_height = 400, title=\"Почасовой график выработки ВЭС\")\n",
        "p1.line(np.arange(len(wind_speed)), wind_speed_to_power(wind_speed), line_width = 2,\n",
        "       legend_label=\"Мощность\")\n",
        "show(p1)\n",
        "\n",
        "# Сохраняем график как csv\n",
        "np.savetxt(\"Wind_speed_to_power_per_hour.csv\", wind_speed_to_power(wind_speed), delimiter=\",\")"
      ],
      "metadata": {
        "id": "2F29fojHoqmC"
      },
      "execution_count": null,
      "outputs": []
    },
    {
      "cell_type": "code",
      "source": [
        "# Рассчитывает посуточные значения выработки ВЭС\n",
        "temp = wind_speed_to_power(wind_speed).reshape(len(wind_speed)//24, 24)\n",
        "average_per_day = np.mean(temp, axis=1)\n",
        "\n",
        "# Строим интерактивный график посуточной выработки ВЭС от скорости ветра при помощи библиотеки Bokeh\n",
        "p2 = figure(plot_width = 800, plot_height = 400, title=\"Посуточный график выработки ВЭС\")\n",
        "p2.line(np.arange(len(wind_speed)//24), average_per_day, line_width = 2,\n",
        "       legend_label=\"Мощность\")\n",
        "show(p2)\n",
        "\n",
        "# Сохраняем график как csv\n",
        "np.savetxt(\"Wind_speed_to_power_per_day.csv\", average_per_day, delimiter=\",\")"
      ],
      "metadata": {
        "id": "LuE_zPwUo_q0"
      },
      "execution_count": null,
      "outputs": []
    }
  ]
}